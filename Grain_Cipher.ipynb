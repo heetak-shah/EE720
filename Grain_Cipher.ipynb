{
 "cells": [
  {
   "cell_type": "code",
   "execution_count": 1,
   "metadata": {},
   "outputs": [],
   "source": [
    "import numpy as np\n",
    "import binascii"
   ]
  },
  {
   "cell_type": "code",
   "execution_count": 2,
   "metadata": {},
   "outputs": [],
   "source": [
    "IV1 = \"\"\n",
    "for j in range(8):\n",
    "    a = np.random.rand()\n",
    "    if(a <= 0.5):\n",
    "        IV1 = IV1 + \"0\"\n",
    "    else:\n",
    "        IV1 = IV1 + \"1\"\n",
    "key = \"tententent\"\n",
    "plaintext = \"Narendra Damodardas Modi (born 17 September 1950) is an Indian politician serving as the 14th and current prime minister of India since 2014. Modi was the chief minister of Gujarat from 2001 to 2014 and is the Member of Parliament from Varanasi. He is a member of the Bharatiya Janata Party (BJP) and its National Democratic Alliance (NDA). He is also a member of the Rashtriya Swayamsevak Sangh (RSS), a right-wing Hindu nationalist paramilitary volunteer organisation. He is the first prime minister to have been born after India's independence in 1947 and the second prime minister not belonging to the Indian National Congress to have won two consecutive elections, as well as a majority in both terms in the Indian lower house of parliament.Born and raised in Vadnagar, a small town in northeastern Gujarat, Modi completed his secondary education there, and is said to have helped his father sell tea at the local railway station. He was introduced to the RSS at age eight. Modi left home at age 18 soon after his marriage to Jashodaben Chimanlal Modi, whom he abandoned and publicly acknowledged as his wife many decades later. Modi has asserted that he travelled around India for two years, visiting a number of religious centres. Upon his return to Gujarat in 1971, he became a full-time worker for the RSS. After the state of emergency declared by Indian prime minister Indira Gandhi country in 1975, Modi went into hiding. The RSS assigned him to the BJP in 1985 and he held several positions within the party hierarchy until 2001, rising to the rank of general secretary.Modi was appointed Chief Minister of Gujarat in 2001 due to Keshubhai Patel's failing health and poor public image following the earthquake in Bhuj. Modi was elected to the legislative assembly soon after. His administration has been considered complicit in the 2002 Gujarat riots in which 1044 people were killed, three-quarters of whom were Muslim, or otherwise criticised for its management of the crisis. The Supreme Court remarked that Narendra Modi was like a Modern-day Nero, looking the other way as innocent women and children were burning. Senior police officer Sanjiv Bhatt and Shubhranshu Chaudhary, a BBC correspondent claimed to have attended a meeting at Narendra Modi's residence where the Gujarat Chief Minister said Hindus should be allowed to vent their anger against Muslims. However a Special Investigation Team, appointed by the Supreme Court, cleared Modi of any charges. His policies as chief minister, credited with encouraging economic growth, have received praise. His administration has been criticised for failing to significantly improve health, poverty and education indices in the state.Modi led the BJP in the 2014 general election which gave the party a majority in the Indian lower house of parliament, the Lok Sabha, the first time for any single party since 1984. Modi's administration has tried to raise foreign direct investment in the Indian economy and reduced spending on healthcare and social welfare programmes. Modi has attempted to improve efficiency in the bureaucracy; he has centralised power by abolishing the Planning Commission. He began a high-profile sanitation campaign, initiated a controversial demonetisation of high-denomination banknotes and weakened or abolished environmental and labour laws.Under Modi's tenure, India has experienced democratic backsliding. Following his party's victory in the 2019 general election, his administration revoked the special status of Jammu and Kashmir. His administration also introduced the Citizenship Amendment Act, which resulted in widespread protests across the country. Described as engineering a political realignment towards right-wing politics, Modi remains a figure of controversy domestically and internationally over his Hindu nationalist beliefs with his alleged role during the 2002 Gujarat riots, cited as evidence of an exclusionary social agenda.\""
   ]
  },
  {
   "cell_type": "code",
   "execution_count": 3,
   "metadata": {},
   "outputs": [],
   "source": [
    "def Text_conversion(text, encoding='utf-8', errors='surrogatepass'):           ##Text to Bits conversion\n",
    "    bits = bin(int(binascii.hexlify(text.encode(encoding, errors)), 16))[2:]\n",
    "    return bits.zfill(8 * ((len(bits) + 7) // 8))\n",
    "\n",
    "def Bits_conversion(bits, encoding='utf-8', errors='surrogatepass'):          ##Bits to text Conversion\n",
    "    n = int(bits, 2)\n",
    "    return Int_conversion(n).decode(encoding, errors)\n",
    "\n",
    "def Int_conversion(i):                                                        ##Int to Bits conversion\n",
    "    hex_string = '%x' % i\n",
    "    n = len(hex_string)\n",
    "    return binascii.unhexlify(hex_string.zfill(n + (n & 1)))"
   ]
  },
  {
   "cell_type": "code",
   "execution_count": 4,
   "metadata": {},
   "outputs": [],
   "source": [
    "lfsr = np.zeros(80,dtype=bool)         ##Linear Feedback Shift Register (LFSR)\n",
    "nfsr = np.zeros(80,dtype=bool)         ##Non-linear Feedback Shift Register (NFSR)"
   ]
  },
  {
   "cell_type": "code",
   "execution_count": 5,
   "metadata": {},
   "outputs": [],
   "source": [
    "## Initialise LFSR and NFSR using IV and Secret Key\n",
    "\n",
    "def init(iv,key):\n",
    "    iv_bin = Text_conversion(iv)\n",
    "    iv_bin = ''.join(iv_bin)\n",
    "    lfsr[:64] = [bool(int(iv_bin[ix])) for ix in range(len(iv_bin))]    ## Initialise LFSR using IV \n",
    "    lfsr[64:] = 1                                                       ## rest are filled with 1\n",
    "    key_bin = Text_conversion(key)\n",
    "    key_bin = ''.join(key_bin)\n",
    "    nfsr[:] = [bool(int(key_bin[ix])) for ix in range(len(key_bin))]     ## Initialise NFSR using Secret Key"
   ]
  },
  {
   "cell_type": "code",
   "execution_count": 6,
   "metadata": {},
   "outputs": [],
   "source": [
    "## clocked The Cipher 160 times without producing any running key\n",
    "## filter function Output, h(x), is fed back and xored with the input, both to the LFSR and to the NFSR\n",
    "\n",
    "def Clock_The_cipher():\n",
    "    hx=0\n",
    "    fx=0\n",
    "    gx=0\n",
    "    global lfsr\n",
    "    global nfsr\n",
    "    for ix in range(160):\n",
    "        fx = lfsr[62] ^^ lfsr[51] ^^ lfsr[38] ^^ lfsr[23] ^^ lfsr[13] ^^ lfsr[0] ^^ hx\n",
    "        gx = hx ^^ nfsr[0] ^^ nfsr[63] ^^ nfsr[60] ^^ nfsr[52] ^^ nfsr[45] ^^ nfsr[37] ^^ nfsr[33] ^^ nfsr[28] ^^ nfsr[21] ^^ nfsr[15] ^^ nfsr[19] ^^ nfsr[0] ^^ nfsr[63] & nfsr[60] ^^ nfsr[37] & nfsr[33] ^^ nfsr[15] & nfsr[9] ^^ nfsr[60] & nfsr[52] & nfsr[45] ^^ nfsr[33] & nfsr[28] & nfsr[21] ^^ nfsr[63] & nfsr[45] & nfsr[28] & nfsr[9] ^^ nfsr[60] & nfsr[52] & nfsr[37] & nfsr[33] ^^ nfsr[63] & nfsr[60] & nfsr[21] & nfsr[15] ^^ nfsr[63] & nfsr[60] & nfsr[52] & nfsr[45] & nfsr[37] ^^ nfsr[33] & nfsr[28] & nfsr[21] & nfsr[15] & nfsr[9] ^^ nfsr[52] & nfsr[45] & nfsr[37] & nfsr[33] & nfsr[28] & nfsr[21]\n",
    "        x0 = lfsr[0]\n",
    "        x1 = lfsr[25]\n",
    "        x2 = lfsr[46]\n",
    "        x3 = lfsr[64]\n",
    "        x4 = nfsr[63]\n",
    "        hx = x1 ^^ x4 ^^ x0 & x3 ^^ x2 & x3 ^^ x3 & x3 ^^ x0 & x1 & x2 ^^ x0 & x2 & x3 ^^ x0 & x2 & x4 ^^ x1 & x2 & x4 ^^ x2 & x3 & x4\n",
    "        lfsr[:-1] = lfsr[1:]\n",
    "        lfsr[-1] = fx\n",
    "        nfsr[:-1] = nfsr[1:]\n",
    "        nfsr[-1] = gx"
   ]
  },
  {
   "cell_type": "code",
   "execution_count": 7,
   "metadata": {},
   "outputs": [],
   "source": [
    "## Returning a stream generator implementing the filter function\n",
    "\n",
    "def Key_stream_generation():\n",
    "    hx = 0\n",
    "    while True:\n",
    "        fx = lfsr[62] ^^ lfsr[51] ^^ lfsr[38] ^^ lfsr[23] ^^ lfsr[13] ^^ lfsr[0]\n",
    "        gx = nfsr[0] ^^ nfsr[63] ^^ nfsr[60] ^^ nfsr[52] ^^ nfsr[45] ^^ nfsr[37] ^^ nfsr[33] ^^ nfsr[28] ^^ nfsr[21] ^^ nfsr[15] ^^ nfsr[19] ^^ nfsr[0] ^^ nfsr[63] & nfsr[60] ^^ nfsr[37] & nfsr[33] ^^ nfsr[15] & nfsr[9] ^^ nfsr[60] & nfsr[52] & nfsr[45] ^^ nfsr[33] & nfsr[28] & nfsr[21] ^^ nfsr[63] & nfsr[45] & nfsr[28] & nfsr[9] ^^ nfsr[60] & nfsr[52] & nfsr[37] & nfsr[33] ^^ nfsr[63] & nfsr[60] & nfsr[21] & nfsr[15] ^^ nfsr[63] & nfsr[60] & nfsr[52] & nfsr[45] & nfsr[37] ^^ nfsr[33] & nfsr[28] & nfsr[21] & nfsr[15] & nfsr[9] ^^ nfsr[52] & nfsr[45] & nfsr[37] & nfsr[33] & nfsr[28] & nfsr[21]\n",
    "        x0 = lfsr[0]\n",
    "        x1 = lfsr[25]\n",
    "        x2 = lfsr[46]\n",
    "        x3 = lfsr[64]\n",
    "        x4 = nfsr[63]\n",
    "        hx = x1 ^^ x4 ^^ x0 & x3 ^^ x2 & x3 ^^ x3 & x3 ^^ x0 & x1 & x2 ^^ x0 & x2 & x3 ^^ x0 & x2 & x4 ^^ x1 & x2 & x4 ^^ x2 & x3 & x4\n",
    "        lfsr[:-1] = lfsr[1:]\n",
    "        lfsr[-1] = fx\n",
    "        nfsr[:-1] = nfsr[1:]\n",
    "        nfsr[-1] = gx\n",
    "        yield hx"
   ]
  },
  {
   "cell_type": "code",
   "execution_count": 8,
   "metadata": {},
   "outputs": [],
   "source": [
    "def Encrypt_text(iv,key,plain):       ## Function for encrypting plain text\n",
    "    init(iv,key)\n",
    "    Clock_The_cipher()\n",
    "    plain = Text_conversion(plain)\n",
    "    stream = Key_stream_generation()\n",
    "    cipher = [str(int(bool(int(plain[ix]))^^next(stream))) for ix in range(len(plain))]\n",
    "    cipher = ''.join(cipher)\n",
    "    return cipher"
   ]
  },
  {
   "cell_type": "code",
   "execution_count": 9,
   "metadata": {},
   "outputs": [],
   "source": [
    "def Decrypt_text(iv,key,cipher):               ## Function to decrypt the text\n",
    "    init(iv,key)\n",
    "    Clock_The_cipher()\n",
    "    stream = Key_stream_generation()\n",
    "    plain = [str(int(bool(int(cipher[ix]))^^next(stream))) for ix in range(len(cipher))]\n",
    "    plain = ''.join(plain)\n",
    "    plain = Bits_conversion(plain)\n",
    "    return plain"
   ]
  },
  {
   "cell_type": "code",
   "execution_count": 10,
   "metadata": {},
   "outputs": [],
   "source": [
    "init(IV1, key)   ## iv and key as arguments"
   ]
  },
  {
   "cell_type": "code",
   "execution_count": 11,
   "metadata": {
    "scrolled": true
   },
   "outputs": [
    {
     "name": "stdout",
     "output_type": "stream",
     "text": [
      "The length of the cipher is 31536\n"
     ]
    }
   ],
   "source": [
    "cipher = Encrypt_text(IV1,key,plaintext)\n",
    "print(\"The length of the cipher is \" + str(len(cipher)))"
   ]
  },
  {
   "cell_type": "code",
   "execution_count": 12,
   "metadata": {
    "scrolled": false
   },
   "outputs": [
    {
     "name": "stdout",
     "output_type": "stream",
     "text": [
      "The decrypted string is the same as the input Plaintext.\n"
     ]
    }
   ],
   "source": [
    "plain = Decrypt_text(IV1,'tententent',cipher) ##Decrypt text\n",
    "if(plain == plaintext):\n",
    "    print(\"The decrypted string is the same as the input Plaintext.\")"
   ]
  },
  {
   "cell_type": "code",
   "execution_count": null,
   "metadata": {},
   "outputs": [
    {
     "name": "stdout",
     "output_type": "stream",
     "text": [
      "Linear Complexity for the input random IV = 01110000 is 5\n",
      "Linear Complexity for the input random IV = 10101000 is 10\n"
     ]
    }
   ],
   "source": [
    "for i in range(100):\n",
    "    IV = \"\"\n",
    "    for j in range(8):\n",
    "        a = np.random.rand()\n",
    "        if(a <= 0.5):\n",
    "            IV = IV + \"0\"\n",
    "        else:\n",
    "            IV = IV + \"1\"\n",
    "    cipher = Encrypt_text(IV,key,plaintext)        ## Encrypt the text\n",
    "    k = 1\n",
    "    rank_string = \"\"\n",
    "    len_cipher = int(len(cipher)/2)\n",
    "    lc = 0\n",
    "    for k in range(1,len_cipher + 1):\n",
    "        li = []\n",
    "        for a in range(k):\n",
    "            lis = []\n",
    "            for l in range(k):\n",
    "                lis.append(cipher[a+l])\n",
    "            li.append(lis)\n",
    "        mat = matrix(GF(2),li)\n",
    "        rank_string = rank_string + str(rank(mat))\n",
    "        l = len(rank_string)\n",
    "        if(l > 3):\n",
    "            if rank_string[l-1] == rank_string[l-2] and rank_string[l-2] == rank_string[l-3]:\n",
    "                lc = k\n",
    "                break\n",
    "        if(k == len_cipher or k == 1024):\n",
    "            lc = len_cipher\n",
    "    print(\"Linear Complexity for the input random IV = \" + str(IV) + \" is \" + str(lc))"
   ]
  }
 ],
 "metadata": {
  "kernelspec": {
   "display_name": "SageMath 9.2",
   "language": "sage",
   "name": "sagemath"
  },
  "language_info": {
   "codemirror_mode": {
    "name": "ipython",
    "version": 3
   },
   "file_extension": ".py",
   "mimetype": "text/x-python",
   "name": "python",
   "nbconvert_exporter": "python",
   "pygments_lexer": "ipython3",
   "version": "3.7.7"
  }
 },
 "nbformat": 4,
 "nbformat_minor": 4
}
